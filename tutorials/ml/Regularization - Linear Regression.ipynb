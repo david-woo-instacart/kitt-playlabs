{
 "cells": [
  {
   "cell_type": "markdown",
   "metadata": {},
   "source": [
    "Goal\n",
    "* Code different types of regularization for linear regression\n",
    "* Show different variations of the hyper params to gain intuitition"
   ]
  },
  {
   "cell_type": "code",
   "execution_count": 43,
   "metadata": {
    "collapsed": true
   },
   "outputs": [],
   "source": [
    "import matplotlib.pyplot as plt\n",
    "import numpy as np\n",
    "from sklearn import datasets, linear_model\n",
    "from sklearn.metrics import mean_squared_error, r2_score\n",
    "\n",
    "# Load the diabetes dataset\n",
    "diabetes = datasets.load_diabetes()"
   ]
  },
  {
   "cell_type": "code",
   "execution_count": 77,
   "metadata": {
    "collapsed": true
   },
   "outputs": [],
   "source": [
    "import numpy as np\n",
    "\n",
    "from sklearn.preprocessing import StandardScaler\n",
    "\n",
    "from sklearn.linear_model import LinearRegression,Ridge\n",
    "\n",
    "from sklearn import linear_model\n",
    "\n",
    "%matplotlib inline"
   ]
  },
  {
   "cell_type": "markdown",
   "metadata": {},
   "source": [
    "Let's produce some fake data. do linear regression on data that represents a quadratic equation"
   ]
  },
  {
   "cell_type": "code",
   "execution_count": 23,
   "metadata": {},
   "outputs": [
    {
     "name": "stdout",
     "output_type": "stream",
     "text": [
      "(40,)\n",
      "(40,)\n",
      "(40,)\n"
     ]
    }
   ],
   "source": [
    "# plot non-linear data points\n",
    "# fit simple linear regression\n",
    "# then plot linear regression with polynomial features\n",
    "\n",
    "x= np.linspace(-20,20, num= 40)\n",
    "b = np.random.rand(40,) * 200\n",
    "\n",
    "y = x ** 2 - 2 * x + 10 + b\n",
    "\n",
    "print(x.shape)\n",
    "print(y.shape)\n",
    "print(b.shape)"
   ]
  },
  {
   "cell_type": "code",
   "execution_count": 24,
   "metadata": {},
   "outputs": [
    {
     "data": {
      "text/plain": [
       "<matplotlib.collections.PathCollection at 0x1a12a1b690>"
      ]
     },
     "execution_count": 24,
     "metadata": {},
     "output_type": "execute_result"
    },
    {
     "data": {
      "image/png": "[encoded data removed]",
      "text/plain": [
       "<matplotlib.figure.Figure at 0x1a129186d0>"
      ]
     },
     "metadata": {},
     "output_type": "display_data"
    }
   ],
   "source": [
    "# plot data points to see relationship\n",
    "\n",
    "plt.scatter(x,y)"
   ]
  },
  {
   "cell_type": "markdown",
   "metadata": {},
   "source": [
    "Let's start with ridge regression.\n",
    "\n",
    "* Ridge regression is adding the L2 regularization to the cost function\n",
    "* Recall the cost function is mean square error. L2 regularization, is the sum of squared weights"
   ]
  },
  {
   "cell_type": "code",
   "execution_count": 47,
   "metadata": {},
   "outputs": [],
   "source": [
    "\n",
    "# next do ridge regression with different scaling parameters\n",
    "\n",
    "# first do linear regression - DONE\n",
    "\n",
    "model = LinearRegression()\n",
    "model.fit(x.reshape(40,1),y.reshape(40,1))\n",
    "\n",
    "y_hat = model.predict(x.reshape(40,1))\n",
    "\n",
    "\n",
    "# then add regularization\n"
   ]
  },
  {
   "cell_type": "markdown",
   "metadata": {},
   "source": [
    "Tip:\n",
    "* Scaling - regularization is very sensitive to inputs of scale. before we did not scale and regularization did not have any impact"
   ]
  },
  {
   "cell_type": "code",
   "execution_count": 82,
   "metadata": {},
   "outputs": [
    {
     "name": "stdout",
     "output_type": "stream",
     "text": [
      "0\n",
      "10\n",
      "100\n"
     ]
    }
   ],
   "source": [
    "a_list = [0,10,100]\n",
    "y_hat_list = []\n",
    "\n",
    "scaler = StandardScaler()\n",
    "x_norm = scaler.fit(x.reshape(40,1)).transform(x.reshape(40,1))\n",
    "\n",
    "\n",
    "for a in a_list:\n",
    "\n",
    "    print(a)\n",
    "    model = Ridge(a,solver='cholesky')\n",
    "    model.fit(x_norm,y.reshape(40,1))\n",
    "\n",
    "    y_hat_list.append(model.predict(x_norm))"
   ]
  },
  {
   "cell_type": "code",
   "execution_count": 88,
   "metadata": {},
   "outputs": [
    {
     "name": "stdout",
     "output_type": "stream",
     "text": [
      "-\n",
      "--\n",
      "-.\n"
     ]
    },
    {
     "data": {
      "image/png": "[encoded data removed]",
      "text/plain": [
       "<matplotlib.figure.Figure at 0x1a1c1f9a50>"
      ]
     },
     "metadata": {},
     "output_type": "display_data"
    }
   ],
   "source": [
    "plt.scatter(x,y)\n",
    "\n",
    "line_style =[ '-' , '--' , '-.' , ':' , 'steps' , '...']\n",
    "\n",
    "for counter,y_hat in enumerate(y_hat_list):\n",
    "    print(line_style[counter])\n",
    "    plt.scatter(x,y_hat.reshape(40,-1),linestyle=line_style[counter])"
   ]
  }
 ],
 "metadata": {
  "kernelspec": {
   "display_name": "Python 2",
   "language": "python",
   "name": "python2"
  },
  "language_info": {
   "codemirror_mode": {
    "name": "ipython",
    "version": 2
   },
   "file_extension": ".py",
   "mimetype": "text/x-python",
   "name": "python",
   "nbconvert_exporter": "python",
   "pygments_lexer": "ipython2",
   "version": "2.7.14"
  }
 },
 "nbformat": 4,
 "nbformat_minor": 2
}
